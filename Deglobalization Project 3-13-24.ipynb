{
 "cells": [
  {
   "cell_type": "markdown",
   "id": "b232d4cc",
   "metadata": {},
   "source": [
    "# Are we Seeing Deglobalization?"
   ]
  },
  {
   "cell_type": "markdown",
   "id": "28fd3bef",
   "metadata": {},
   "source": [
    "Globalization is, if nothing else, a contentious topic, deglobalisation even more so. There are numerous different aspects to assess when trying to quantify globalization, some of which may have a more direct impact on you than others. This could include everything from shifts in globalized pop culture to the power of international organizations. While all of these are valid topics, which I hope to investigate in future, I think the best place to begin is trade. Trade is, of course, the life blood of globalization and is relatively straightforward to quantify. If we accept that deglobalisation is measurable through changes in the volume of international trade and global gdp we would expect to see:\n",
    "\n",
    "1) A decrease in the rate of world GDP growth.\n",
    "\n",
    "2) A decrease in the rate of trade volume growth.\n",
    "\n",
    "3) A decrease in the rate of growth of trade volume as a percent of GDP.\n",
    "\n",
    "\n",
    "Of the three of these, a significant decrease in the rate of trade volume growth as a percent of GDP (a divergence between gdp and trade volume), would be the most convincing evidence that deglobalization is occurring. A reduction of growth rate of global GDP and trade volume simultaneously could denote a recession/depression without necessarily pointing to a reduction in global interconnectedness. \n",
    "\n"
   ]
  },
  {
   "cell_type": "code",
   "execution_count": 98,
   "id": "871cc34c",
   "metadata": {},
   "outputs": [],
   "source": [
    "import pandas as pd \n",
    "import numpy as np\n",
    "import matplotlib.pyplot as plt\n",
    "from scipy import stats"
   ]
  },
  {
   "cell_type": "code",
   "execution_count": 2,
   "id": "4f3efee1",
   "metadata": {},
   "outputs": [],
   "source": [
    "# Importing Data\n",
    "\n",
    "# Getting World GDP, Exports, Impors Since 1990-2022 \n",
    "# from the World Bank https://databank.worldbank.org/reports.aspx?source=2&series=NY.GDP.MKTP.CD&country=#\n",
    "\n",
    " # this is in current US Dollars (2022)\n",
    "\n",
    "# Regional GDP% Growth\n",
    "#gdpg = pd.read_excel('C:/Users/Ian/Desktop/Data Analysis 12-23-23/WB_Regional_GDP%_ 1961_data.xlsx')\n",
    "\n",
    "# Global GDP: https://databank.worldbank.org/reports.aspx?source=2&series=NY.GDP.MKTP.CD&country=#\n",
    "ggdp = pd.read_excel('C:/Users/Ian/Desktop/Data Analysis 12-23-23/WB_Regional_GDP_1961_data.xlsx')\n",
    "\n",
    "# Regional Imports\n",
    "rimp = pd.read_excel('C:/Users/Ian/Desktop/Data Analysis 12-23-23/WB_Regional_Import_1961_data.xlsx')\n",
    "\n",
    "# Regional Exports\n",
    "rexp = pd.read_excel('C:/Users/Ian/Desktop/Data Analysis 12-23-23/WB_Regional_Export_1961_data.xlsx')\n"
   ]
  },
  {
   "cell_type": "code",
   "execution_count": 3,
   "id": "e88c811b",
   "metadata": {},
   "outputs": [],
   "source": [
    "# Cleaning Data\n",
    "\n",
    "def clean(i):\n",
    "    i = i.drop(columns = [\"Series Name\", \"Series Code\", \"Time Code\"])\n",
    "    i = i.drop(index=[0,1,2,3,4,5,6,7,8,9,62, 63, 64, 65, 66])\n",
    "    i = i.rename(columns = {'Time':'Year'})\n",
    "    i.replace('..', np.nan, inplace=True)\n",
    "    i = i.dropna(axis=1)\n",
    "    i[\"Year\"]  = i[\"Year\"].astype(int)\n",
    "    i.set_index(\"Year\", inplace=True) \n",
    "    return i\n",
    "\n",
    "ggdp1 = clean(ggdp)\n",
    "rexp1 = clean(rexp)\n",
    "rimp1 = clean(rimp)\n"
   ]
  },
  {
   "cell_type": "code",
   "execution_count": 66,
   "id": "b35b9f75",
   "metadata": {},
   "outputs": [],
   "source": [
    "# Calculate Trade Volume\n",
    "tradevol = rexp1[\"World [WLD]\"] + rimp1['World [WLD]']\n",
    "\n",
    "# Back to dataframe\n",
    "tradevol = pd.DataFrame(tradevol)\n",
    "\n",
    "# Rename \n",
    "tradevol = tradevol.rename(columns={'World [WLD]':'World Trade Volume'})"
   ]
  },
  {
   "cell_type": "code",
   "execution_count": 69,
   "id": "71fe93e3",
   "metadata": {},
   "outputs": [],
   "source": [
    "#################### Calculate % Change GDP #################################\n",
    "\n",
    "# Calculate Percent change \n",
    "gdpp = ggdp1['World [WLD]']\n",
    "\n",
    "# Back to dataframe\n",
    "gdpp = pd.DataFrame(gdpp)\n",
    "\n",
    "gdpp = gdpp[\"World [WLD]\"].pct_change() * 100\n",
    "\n",
    "# Drop first row\n",
    "gdpp = gdpp.dropna()\n",
    "\n",
    "# Back to dataframe\n",
    "gdpp = pd.DataFrame(gdpp)\n",
    "\n",
    "# Rename \n",
    "gdpp = gdpp.rename(columns={'World [WLD]':\"World GDP % Growth Rate\"})\n",
    "\n",
    "################### Calculate % Change Trade Volume #########################\n",
    "\n",
    "# Calculate percentage change\n",
    "tvp = tradevol['World Trade Volume'].pct_change() * 100\n",
    "\n",
    "# Drop the first row \n",
    "tvp = tvp.dropna()\n",
    "\n",
    "# Back to a dataframe \n",
    "tvp = pd.DataFrame(tvp)\n",
    "\n",
    "# Rename \n",
    "tvp = tvp.rename(columns={'World Trade Volume':'Trade Volume % Growth'})\n",
    "\n",
    "################### Calculate Trade Volume as a Percent of GDP #############\n",
    "\n",
    "tgp = (tradevol['World Trade Volume']/ggdp1['World [WLD]']) * 100\n",
    "\n",
    "# Back to dataframe\n",
    "tgp = pd.DataFrame(tgp)\n",
    "\n",
    "# Rename\n",
    "tgp = tgp.rename(columns={0:'Trade Volume as % of World GDP'})\n",
    "\n",
    "################ Calculate Growth Rate of Trade as a Percent of GDP ########\n",
    "tgpgr = tgp.pct_change()*100\n",
    "\n",
    "# Back to dataframe\n",
    "tgpgr = pd.DataFrame(tgpgr)\n",
    "tgpgr = tgpgr.rename(columns={'Trade Volume as % of World GDP':'Trade Volume as % of World GDP Growth Rate'})\n",
    "\n",
    "\n",
    "################# Create dataframe ##########################################\n",
    "\n",
    "df = pd.merge(tvp, pd.merge(gdpp, pd.merge(tgp, tgpgr, left_index=True, right_index=True), left_index=True, right_index=True), left_index=True, right_index=True)\n",
    "\n",
    "# Subset Data from after 2008 and before 2008\n",
    "df07 = df.loc[:2007]\n",
    "df08 = df.loc[2008:]\n"
   ]
  },
  {
   "cell_type": "code",
   "execution_count": 99,
   "id": "298f10cc",
   "metadata": {},
   "outputs": [
    {
     "data": {
      "text/html": [
       "<div>\n",
       "<style scoped>\n",
       "    .dataframe tbody tr th:only-of-type {\n",
       "        vertical-align: middle;\n",
       "    }\n",
       "\n",
       "    .dataframe tbody tr th {\n",
       "        vertical-align: top;\n",
       "    }\n",
       "\n",
       "    .dataframe thead th {\n",
       "        text-align: right;\n",
       "    }\n",
       "</style>\n",
       "<table border=\"1\" class=\"dataframe\">\n",
       "  <thead>\n",
       "    <tr style=\"text-align: right;\">\n",
       "      <th></th>\n",
       "      <th>Trade Volume % Growth</th>\n",
       "      <th>World GDP % Growth Rate</th>\n",
       "      <th>Trade Volume as % of World GDP</th>\n",
       "      <th>Trade Volume as % of World GDP Growth Rate</th>\n",
       "    </tr>\n",
       "  </thead>\n",
       "  <tbody>\n",
       "    <tr>\n",
       "      <th>count</th>\n",
       "      <td>51.000000</td>\n",
       "      <td>51.000000</td>\n",
       "      <td>51.000000</td>\n",
       "      <td>51.000000</td>\n",
       "    </tr>\n",
       "    <tr>\n",
       "      <th>mean</th>\n",
       "      <td>9.331239</td>\n",
       "      <td>7.105089</td>\n",
       "      <td>45.281722</td>\n",
       "      <td>1.890665</td>\n",
       "    </tr>\n",
       "    <tr>\n",
       "      <th>std</th>\n",
       "      <td>11.190144</td>\n",
       "      <td>6.346109</td>\n",
       "      <td>9.958838</td>\n",
       "      <td>5.858497</td>\n",
       "    </tr>\n",
       "    <tr>\n",
       "      <th>min</th>\n",
       "      <td>-19.427892</td>\n",
       "      <td>-5.703968</td>\n",
       "      <td>26.322301</td>\n",
       "      <td>-15.005761</td>\n",
       "    </tr>\n",
       "    <tr>\n",
       "      <th>25%</th>\n",
       "      <td>1.672158</td>\n",
       "      <td>2.720313</td>\n",
       "      <td>36.960513</td>\n",
       "      <td>-2.278673</td>\n",
       "    </tr>\n",
       "    <tr>\n",
       "      <th>50%</th>\n",
       "      <td>10.687089</td>\n",
       "      <td>6.488746</td>\n",
       "      <td>43.297372</td>\n",
       "      <td>2.411624</td>\n",
       "    </tr>\n",
       "    <tr>\n",
       "      <th>75%</th>\n",
       "      <td>15.976770</td>\n",
       "      <td>12.173759</td>\n",
       "      <td>55.898593</td>\n",
       "      <td>4.769674</td>\n",
       "    </tr>\n",
       "    <tr>\n",
       "      <th>max</th>\n",
       "      <td>40.082193</td>\n",
       "      <td>21.396434</td>\n",
       "      <td>61.534798</td>\n",
       "      <td>22.279638</td>\n",
       "    </tr>\n",
       "  </tbody>\n",
       "</table>\n",
       "</div>"
      ],
      "text/plain": [
       "       Trade Volume % Growth  World GDP % Growth Rate  \\\n",
       "count              51.000000                51.000000   \n",
       "mean                9.331239                 7.105089   \n",
       "std                11.190144                 6.346109   \n",
       "min               -19.427892                -5.703968   \n",
       "25%                 1.672158                 2.720313   \n",
       "50%                10.687089                 6.488746   \n",
       "75%                15.976770                12.173759   \n",
       "max                40.082193                21.396434   \n",
       "\n",
       "       Trade Volume as % of World GDP  \\\n",
       "count                       51.000000   \n",
       "mean                        45.281722   \n",
       "std                          9.958838   \n",
       "min                         26.322301   \n",
       "25%                         36.960513   \n",
       "50%                         43.297372   \n",
       "75%                         55.898593   \n",
       "max                         61.534798   \n",
       "\n",
       "       Trade Volume as % of World GDP Growth Rate  \n",
       "count                                   51.000000  \n",
       "mean                                     1.890665  \n",
       "std                                      5.858497  \n",
       "min                                    -15.005761  \n",
       "25%                                     -2.278673  \n",
       "50%                                      2.411624  \n",
       "75%                                      4.769674  \n",
       "max                                     22.279638  "
      ]
     },
     "execution_count": 99,
     "metadata": {},
     "output_type": "execute_result"
    }
   ],
   "source": [
    "df.describe()"
   ]
  },
  {
   "cell_type": "code",
   "execution_count": 72,
   "id": "7200bb90",
   "metadata": {},
   "outputs": [
    {
     "name": "stdout",
     "output_type": "stream",
     "text": [
      "Before 2008\n",
      "Trade Volume % Growth                         11.260638\n",
      "World GDP % Growth Rate                        8.458792\n",
      "Trade Volume as % of World GDP                40.289581\n",
      "Trade Volume as % of World GDP Growth Rate     2.468322\n",
      "dtype: float64\n",
      "\n",
      "After 2008\n",
      "Trade Volume % Growth                          4.700681\n",
      "World GDP % Growth Rate                        3.856204\n",
      "Trade Volume as % of World GDP                57.262860\n",
      "Trade Volume as % of World GDP Growth Rate     0.504289\n",
      "dtype: float64\n"
     ]
    }
   ],
   "source": [
    "# Mean Growth Rates\n",
    "print(\"Before 2008\")\n",
    "print(df07.mean())\n",
    "print('')\n",
    "print('After 2008')\n",
    "print(df08.mean())\n"
   ]
  },
  {
   "cell_type": "code",
   "execution_count": 21,
   "id": "5f2d01a1",
   "metadata": {},
   "outputs": [
    {
     "data": {
      "text/plain": [
       "(array([[ 1.,  3., 16., 11., 14.,  4.,  1.,  1.,  0.,  0.],\n",
       "        [ 0.,  2., 22., 17.,  9.,  1.,  0.,  0.,  0.,  0.],\n",
       "        [ 0.,  0.,  0.,  0.,  0.,  1., 13., 14.,  7., 16.]]),\n",
       " array([-19.42789248, -11.33162344,  -3.23535441,   4.86091463,\n",
       "         12.95718367,  21.0534527 ,  29.14972174,  37.24599078,\n",
       "         45.34225982,  53.43852885,  61.53479789]),\n",
       " <a list of 3 BarContainer objects>)"
      ]
     },
     "execution_count": 21,
     "metadata": {},
     "output_type": "execute_result"
    },
    {
     "data": {
      "image/png": "[encoded data removed]",
      "text/plain": [
       "<Figure size 432x288 with 1 Axes>"
      ]
     },
     "metadata": {
      "needs_background": "light"
     },
     "output_type": "display_data"
    }
   ],
   "source": [
    "plt.hist(df)\n"
   ]
  },
  {
   "cell_type": "code",
   "execution_count": 88,
   "id": "6d1bf617",
   "metadata": {},
   "outputs": [
    {
     "name": "stdout",
     "output_type": "stream",
     "text": [
      "The skewness or 2008 onward data is [-0.26857264 -0.05579824 -0.28296798 -0.63985224]\n",
      "The kurtosis of 2008 onward data is [-0.68894493 -0.76894322 -0.90170501 -0.01412511]\n",
      "The skewness or overall data is [0.16950003 0.14859816 0.2059031  0.35151281]\n",
      "The kurtosis of overall data is [ 0.63413467 -0.65445759 -1.33148532  2.22298724]\n"
     ]
    }
   ],
   "source": [
    "# Checking for normality of data\n",
    " \n",
    "# Skewness measures the asymmetry of the distribution \n",
    "# Kurtosis measures the \"tailedness\" or peakedness of the distribution \n",
    "\n",
    "# For a normal distribution, skewness is close to zero, and kurtosis is close to 3.\n",
    "\n",
    "# Checking 08-22\n",
    "skew08 = stats.skew(df08)\n",
    "kurt08 = stats.kurtosis(df08)\n",
    "print(\"The skewness or 2008 onward data is\", skew08)\n",
    "print('The kurtosis of 2008 onward data is', kurt08)\n",
    "\n",
    "# Checking 08-22\n",
    "skewdf = stats.skew(df)\n",
    "kurtdf = stats.kurtosis(df)\n",
    "print(\"The skewness or overall data is\", skewdf)\n",
    "print('The kurtosis of overall data is', kurtdf)"
   ]
  },
  {
   "cell_type": "code",
   "execution_count": 56,
   "id": "cb861901",
   "metadata": {},
   "outputs": [],
   "source": [
    "####################### Permutation test #########################\n",
    "\n",
    "# The skewess/kurtosis tests and visible review of the data in histogram form leads me to beleive that the data is not\n",
    "# normally distributed. The best way to proceed in the hypothesis test is to implement permutation testing as it is .\n",
    "\n",
    "# creating a callable object\n",
    "def statistic(x, y, axis):\n",
    "    return np.mean(x, axis=axis) - np.mean(y, axis=axis)\n",
    "\n"
   ]
  },
  {
   "cell_type": "code",
   "execution_count": 142,
   "id": "58982a46",
   "metadata": {},
   "outputs": [
    {
     "name": "stdout",
     "output_type": "stream",
     "text": [
      "Correlations\n"
     ]
    },
    {
     "data": {
      "text/html": [
       "<div>\n",
       "<style scoped>\n",
       "    .dataframe tbody tr th:only-of-type {\n",
       "        vertical-align: middle;\n",
       "    }\n",
       "\n",
       "    .dataframe tbody tr th {\n",
       "        vertical-align: top;\n",
       "    }\n",
       "\n",
       "    .dataframe thead th {\n",
       "        text-align: right;\n",
       "    }\n",
       "</style>\n",
       "<table border=\"1\" class=\"dataframe\">\n",
       "  <thead>\n",
       "    <tr style=\"text-align: right;\">\n",
       "      <th></th>\n",
       "      <th>Trade Volume % Growth</th>\n",
       "      <th>World GDP % Growth Rate</th>\n",
       "      <th>Trade Volume as % of World GDP</th>\n",
       "      <th>Trade Volume as % of World GDP Growth Rate</th>\n",
       "    </tr>\n",
       "  </thead>\n",
       "  <tbody>\n",
       "    <tr>\n",
       "      <th>Trade Volume % Growth</th>\n",
       "      <td>1.000000</td>\n",
       "      <td>0.879171</td>\n",
       "      <td>-0.195856</td>\n",
       "      <td>0.881057</td>\n",
       "    </tr>\n",
       "    <tr>\n",
       "      <th>World GDP % Growth Rate</th>\n",
       "      <td>0.879171</td>\n",
       "      <td>1.000000</td>\n",
       "      <td>-0.348668</td>\n",
       "      <td>0.551859</td>\n",
       "    </tr>\n",
       "    <tr>\n",
       "      <th>Trade Volume as % of World GDP</th>\n",
       "      <td>-0.195856</td>\n",
       "      <td>-0.348668</td>\n",
       "      <td>1.000000</td>\n",
       "      <td>0.005724</td>\n",
       "    </tr>\n",
       "    <tr>\n",
       "      <th>Trade Volume as % of World GDP Growth Rate</th>\n",
       "      <td>0.881057</td>\n",
       "      <td>0.551859</td>\n",
       "      <td>0.005724</td>\n",
       "      <td>1.000000</td>\n",
       "    </tr>\n",
       "  </tbody>\n",
       "</table>\n",
       "</div>"
      ],
      "text/plain": [
       "                                            Trade Volume % Growth  \\\n",
       "Trade Volume % Growth                                    1.000000   \n",
       "World GDP % Growth Rate                                  0.879171   \n",
       "Trade Volume as % of World GDP                          -0.195856   \n",
       "Trade Volume as % of World GDP Growth Rate               0.881057   \n",
       "\n",
       "                                            World GDP % Growth Rate  \\\n",
       "Trade Volume % Growth                                      0.879171   \n",
       "World GDP % Growth Rate                                    1.000000   \n",
       "Trade Volume as % of World GDP                            -0.348668   \n",
       "Trade Volume as % of World GDP Growth Rate                 0.551859   \n",
       "\n",
       "                                            Trade Volume as % of World GDP  \\\n",
       "Trade Volume % Growth                                            -0.195856   \n",
       "World GDP % Growth Rate                                          -0.348668   \n",
       "Trade Volume as % of World GDP                                    1.000000   \n",
       "Trade Volume as % of World GDP Growth Rate                        0.005724   \n",
       "\n",
       "                                            Trade Volume as % of World GDP Growth Rate  \n",
       "Trade Volume % Growth                                                         0.881057  \n",
       "World GDP % Growth Rate                                                       0.551859  \n",
       "Trade Volume as % of World GDP                                                0.005724  \n",
       "Trade Volume as % of World GDP Growth Rate                                    1.000000  "
      ]
     },
     "execution_count": 142,
     "metadata": {},
     "output_type": "execute_result"
    }
   ],
   "source": [
    "# Descriptive Stats\n",
    "print('Correlations')\n",
    "df.corr()"
   ]
  },
  {
   "cell_type": "code",
   "execution_count": 141,
   "id": "1e78cfe7",
   "metadata": {},
   "outputs": [
    {
     "name": "stdout",
     "output_type": "stream",
     "text": [
      "Descriptive Stats 1972-2022\n"
     ]
    },
    {
     "data": {
      "text/html": [
       "<div>\n",
       "<style scoped>\n",
       "    .dataframe tbody tr th:only-of-type {\n",
       "        vertical-align: middle;\n",
       "    }\n",
       "\n",
       "    .dataframe tbody tr th {\n",
       "        vertical-align: top;\n",
       "    }\n",
       "\n",
       "    .dataframe thead th {\n",
       "        text-align: right;\n",
       "    }\n",
       "</style>\n",
       "<table border=\"1\" class=\"dataframe\">\n",
       "  <thead>\n",
       "    <tr style=\"text-align: right;\">\n",
       "      <th></th>\n",
       "      <th>Trade Volume % Growth</th>\n",
       "      <th>World GDP % Growth Rate</th>\n",
       "      <th>Trade Volume as % of World GDP</th>\n",
       "      <th>Trade Volume as % of World GDP Growth Rate</th>\n",
       "    </tr>\n",
       "  </thead>\n",
       "  <tbody>\n",
       "    <tr>\n",
       "      <th>count</th>\n",
       "      <td>51.000000</td>\n",
       "      <td>51.000000</td>\n",
       "      <td>51.000000</td>\n",
       "      <td>51.000000</td>\n",
       "    </tr>\n",
       "    <tr>\n",
       "      <th>mean</th>\n",
       "      <td>9.331239</td>\n",
       "      <td>7.105089</td>\n",
       "      <td>45.281722</td>\n",
       "      <td>1.890665</td>\n",
       "    </tr>\n",
       "    <tr>\n",
       "      <th>std</th>\n",
       "      <td>11.190144</td>\n",
       "      <td>6.346109</td>\n",
       "      <td>9.958838</td>\n",
       "      <td>5.858497</td>\n",
       "    </tr>\n",
       "    <tr>\n",
       "      <th>min</th>\n",
       "      <td>-19.427892</td>\n",
       "      <td>-5.703968</td>\n",
       "      <td>26.322301</td>\n",
       "      <td>-15.005761</td>\n",
       "    </tr>\n",
       "    <tr>\n",
       "      <th>25%</th>\n",
       "      <td>1.672158</td>\n",
       "      <td>2.720313</td>\n",
       "      <td>36.960513</td>\n",
       "      <td>-2.278673</td>\n",
       "    </tr>\n",
       "    <tr>\n",
       "      <th>50%</th>\n",
       "      <td>10.687089</td>\n",
       "      <td>6.488746</td>\n",
       "      <td>43.297372</td>\n",
       "      <td>2.411624</td>\n",
       "    </tr>\n",
       "    <tr>\n",
       "      <th>75%</th>\n",
       "      <td>15.976770</td>\n",
       "      <td>12.173759</td>\n",
       "      <td>55.898593</td>\n",
       "      <td>4.769674</td>\n",
       "    </tr>\n",
       "    <tr>\n",
       "      <th>max</th>\n",
       "      <td>40.082193</td>\n",
       "      <td>21.396434</td>\n",
       "      <td>61.534798</td>\n",
       "      <td>22.279638</td>\n",
       "    </tr>\n",
       "  </tbody>\n",
       "</table>\n",
       "</div>"
      ],
      "text/plain": [
       "       Trade Volume % Growth  World GDP % Growth Rate  \\\n",
       "count              51.000000                51.000000   \n",
       "mean                9.331239                 7.105089   \n",
       "std                11.190144                 6.346109   \n",
       "min               -19.427892                -5.703968   \n",
       "25%                 1.672158                 2.720313   \n",
       "50%                10.687089                 6.488746   \n",
       "75%                15.976770                12.173759   \n",
       "max                40.082193                21.396434   \n",
       "\n",
       "       Trade Volume as % of World GDP  \\\n",
       "count                       51.000000   \n",
       "mean                        45.281722   \n",
       "std                          9.958838   \n",
       "min                         26.322301   \n",
       "25%                         36.960513   \n",
       "50%                         43.297372   \n",
       "75%                         55.898593   \n",
       "max                         61.534798   \n",
       "\n",
       "       Trade Volume as % of World GDP Growth Rate  \n",
       "count                                   51.000000  \n",
       "mean                                     1.890665  \n",
       "std                                      5.858497  \n",
       "min                                    -15.005761  \n",
       "25%                                     -2.278673  \n",
       "50%                                      2.411624  \n",
       "75%                                      4.769674  \n",
       "max                                     22.279638  "
      ]
     },
     "execution_count": 141,
     "metadata": {},
     "output_type": "execute_result"
    }
   ],
   "source": [
    "print('Descriptive Stats 1972-2022')\n",
    "df.describe()"
   ]
  },
  {
   "cell_type": "code",
   "execution_count": 139,
   "id": "3527fca4",
   "metadata": {},
   "outputs": [
    {
     "name": "stdout",
     "output_type": "stream",
     "text": [
      "Descriptive Stats 1972-2007\n"
     ]
    },
    {
     "data": {
      "text/html": [
       "<div>\n",
       "<style scoped>\n",
       "    .dataframe tbody tr th:only-of-type {\n",
       "        vertical-align: middle;\n",
       "    }\n",
       "\n",
       "    .dataframe tbody tr th {\n",
       "        vertical-align: top;\n",
       "    }\n",
       "\n",
       "    .dataframe thead th {\n",
       "        text-align: right;\n",
       "    }\n",
       "</style>\n",
       "<table border=\"1\" class=\"dataframe\">\n",
       "  <thead>\n",
       "    <tr style=\"text-align: right;\">\n",
       "      <th></th>\n",
       "      <th>Trade Volume % Growth</th>\n",
       "      <th>World GDP % Growth Rate</th>\n",
       "      <th>Trade Volume as % of World GDP</th>\n",
       "      <th>Trade Volume as % of World GDP Growth Rate</th>\n",
       "    </tr>\n",
       "  </thead>\n",
       "  <tbody>\n",
       "    <tr>\n",
       "      <th>count</th>\n",
       "      <td>36.000000</td>\n",
       "      <td>36.000000</td>\n",
       "      <td>36.000000</td>\n",
       "      <td>36.000000</td>\n",
       "    </tr>\n",
       "    <tr>\n",
       "      <th>mean</th>\n",
       "      <td>11.260638</td>\n",
       "      <td>8.458792</td>\n",
       "      <td>40.289581</td>\n",
       "      <td>2.468322</td>\n",
       "    </tr>\n",
       "    <tr>\n",
       "      <th>std</th>\n",
       "      <td>10.277070</td>\n",
       "      <td>6.147468</td>\n",
       "      <td>7.134897</td>\n",
       "      <td>5.481706</td>\n",
       "    </tr>\n",
       "    <tr>\n",
       "      <th>min</th>\n",
       "      <td>-5.367093</td>\n",
       "      <td>-1.427017</td>\n",
       "      <td>26.322301</td>\n",
       "      <td>-5.598751</td>\n",
       "    </tr>\n",
       "    <tr>\n",
       "      <th>25%</th>\n",
       "      <td>3.981077</td>\n",
       "      <td>3.365134</td>\n",
       "      <td>35.777647</td>\n",
       "      <td>-1.682264</td>\n",
       "    </tr>\n",
       "    <tr>\n",
       "      <th>50%</th>\n",
       "      <td>11.853739</td>\n",
       "      <td>8.327478</td>\n",
       "      <td>37.916655</td>\n",
       "      <td>2.556856</td>\n",
       "    </tr>\n",
       "    <tr>\n",
       "      <th>75%</th>\n",
       "      <td>16.246016</td>\n",
       "      <td>12.799398</td>\n",
       "      <td>43.601769</td>\n",
       "      <td>4.726475</td>\n",
       "    </tr>\n",
       "    <tr>\n",
       "      <th>max</th>\n",
       "      <td>40.082193</td>\n",
       "      <td>21.396434</td>\n",
       "      <td>58.913321</td>\n",
       "      <td>22.279638</td>\n",
       "    </tr>\n",
       "  </tbody>\n",
       "</table>\n",
       "</div>"
      ],
      "text/plain": [
       "       Trade Volume % Growth  World GDP % Growth Rate  \\\n",
       "count              36.000000                36.000000   \n",
       "mean               11.260638                 8.458792   \n",
       "std                10.277070                 6.147468   \n",
       "min                -5.367093                -1.427017   \n",
       "25%                 3.981077                 3.365134   \n",
       "50%                11.853739                 8.327478   \n",
       "75%                16.246016                12.799398   \n",
       "max                40.082193                21.396434   \n",
       "\n",
       "       Trade Volume as % of World GDP  \\\n",
       "count                       36.000000   \n",
       "mean                        40.289581   \n",
       "std                          7.134897   \n",
       "min                         26.322301   \n",
       "25%                         35.777647   \n",
       "50%                         37.916655   \n",
       "75%                         43.601769   \n",
       "max                         58.913321   \n",
       "\n",
       "       Trade Volume as % of World GDP Growth Rate  \n",
       "count                                   36.000000  \n",
       "mean                                     2.468322  \n",
       "std                                      5.481706  \n",
       "min                                     -5.598751  \n",
       "25%                                     -1.682264  \n",
       "50%                                      2.556856  \n",
       "75%                                      4.726475  \n",
       "max                                     22.279638  "
      ]
     },
     "execution_count": 139,
     "metadata": {},
     "output_type": "execute_result"
    }
   ],
   "source": [
    "print('Descriptive Stats 1972-2007')\n",
    "df07.describe()"
   ]
  },
  {
   "cell_type": "code",
   "execution_count": 140,
   "id": "0e58315f",
   "metadata": {},
   "outputs": [
    {
     "name": "stdout",
     "output_type": "stream",
     "text": [
      "Descriptive Stats 2008-2022\n"
     ]
    },
    {
     "data": {
      "text/html": [
       "<div>\n",
       "<style scoped>\n",
       "    .dataframe tbody tr th:only-of-type {\n",
       "        vertical-align: middle;\n",
       "    }\n",
       "\n",
       "    .dataframe tbody tr th {\n",
       "        vertical-align: top;\n",
       "    }\n",
       "\n",
       "    .dataframe thead th {\n",
       "        text-align: right;\n",
       "    }\n",
       "</style>\n",
       "<table border=\"1\" class=\"dataframe\">\n",
       "  <thead>\n",
       "    <tr style=\"text-align: right;\">\n",
       "      <th></th>\n",
       "      <th>Trade Volume % Growth</th>\n",
       "      <th>World GDP % Growth Rate</th>\n",
       "      <th>Trade Volume as % of World GDP</th>\n",
       "      <th>Trade Volume as % of World GDP Growth Rate</th>\n",
       "    </tr>\n",
       "  </thead>\n",
       "  <tbody>\n",
       "    <tr>\n",
       "      <th>count</th>\n",
       "      <td>15.000000</td>\n",
       "      <td>15.000000</td>\n",
       "      <td>15.000000</td>\n",
       "      <td>15.000000</td>\n",
       "    </tr>\n",
       "    <tr>\n",
       "      <th>mean</th>\n",
       "      <td>4.700681</td>\n",
       "      <td>3.856204</td>\n",
       "      <td>57.262860</td>\n",
       "      <td>0.504289</td>\n",
       "    </tr>\n",
       "    <tr>\n",
       "      <th>std</th>\n",
       "      <td>12.272752</td>\n",
       "      <td>5.773447</td>\n",
       "      <td>3.009491</td>\n",
       "      <td>6.673708</td>\n",
       "    </tr>\n",
       "    <tr>\n",
       "      <th>min</th>\n",
       "      <td>-19.427892</td>\n",
       "      <td>-5.703968</td>\n",
       "      <td>52.136705</td>\n",
       "      <td>-15.005761</td>\n",
       "    </tr>\n",
       "    <tr>\n",
       "      <th>25%</th>\n",
       "      <td>-1.635828</td>\n",
       "      <td>1.534068</td>\n",
       "      <td>55.898593</td>\n",
       "      <td>-3.121695</td>\n",
       "    </tr>\n",
       "    <tr>\n",
       "      <th>50%</th>\n",
       "      <td>2.693422</td>\n",
       "      <td>2.780193</td>\n",
       "      <td>57.037350</td>\n",
       "      <td>-0.084424</td>\n",
       "    </tr>\n",
       "    <tr>\n",
       "      <th>75%</th>\n",
       "      <td>13.257506</td>\n",
       "      <td>8.024703</td>\n",
       "      <td>59.621288</td>\n",
       "      <td>5.235350</td>\n",
       "    </tr>\n",
       "    <tr>\n",
       "      <th>max</th>\n",
       "      <td>24.641565</td>\n",
       "      <td>13.932370</td>\n",
       "      <td>61.534798</td>\n",
       "      <td>9.399607</td>\n",
       "    </tr>\n",
       "  </tbody>\n",
       "</table>\n",
       "</div>"
      ],
      "text/plain": [
       "       Trade Volume % Growth  World GDP % Growth Rate  \\\n",
       "count              15.000000                15.000000   \n",
       "mean                4.700681                 3.856204   \n",
       "std                12.272752                 5.773447   \n",
       "min               -19.427892                -5.703968   \n",
       "25%                -1.635828                 1.534068   \n",
       "50%                 2.693422                 2.780193   \n",
       "75%                13.257506                 8.024703   \n",
       "max                24.641565                13.932370   \n",
       "\n",
       "       Trade Volume as % of World GDP  \\\n",
       "count                       15.000000   \n",
       "mean                        57.262860   \n",
       "std                          3.009491   \n",
       "min                         52.136705   \n",
       "25%                         55.898593   \n",
       "50%                         57.037350   \n",
       "75%                         59.621288   \n",
       "max                         61.534798   \n",
       "\n",
       "       Trade Volume as % of World GDP Growth Rate  \n",
       "count                                   15.000000  \n",
       "mean                                     0.504289  \n",
       "std                                      6.673708  \n",
       "min                                    -15.005761  \n",
       "25%                                     -3.121695  \n",
       "50%                                     -0.084424  \n",
       "75%                                      5.235350  \n",
       "max                                      9.399607  "
      ]
     },
     "execution_count": 140,
     "metadata": {},
     "output_type": "execute_result"
    }
   ],
   "source": [
    "print('Descriptive Stats 2008-2022')\n",
    "df08.describe()"
   ]
  },
  {
   "cell_type": "code",
   "execution_count": 131,
   "id": "63b57b12",
   "metadata": {},
   "outputs": [
    {
     "data": {
      "image/png": "[encoded data removed]",
      "text/plain": [
       "<Figure size 432x288 with 1 Axes>"
      ]
     },
     "metadata": {
      "needs_background": "light"
     },
     "output_type": "display_data"
    }
   ],
   "source": [
    "# GDP and Trade Volume\n",
    "\n",
    "# Plotting\n",
    "plt.plot(ggdp1['World [WLD]'], label='World GDP')\n",
    "plt.plot(tradevol['World Trade Volume'], label='Trade Volume')\n",
    "\n",
    "# Adding Vertical line at y=2008\n",
    "plt.axvline(x=2008, color='red', linestyle='-')\n",
    "\n",
    "# Adding labels\n",
    "plt.xlabel('Year')\n",
    "plt.ylabel('Current USD')\n",
    "plt.title('Global GDP and Trade Volume')\n",
    "plt.legend()\n",
    "\n",
    "# Display the plot\n",
    "plt.show()"
   ]
  },
  {
   "cell_type": "code",
   "execution_count": 91,
   "id": "afcdeb07",
   "metadata": {},
   "outputs": [
    {
     "name": "stdout",
     "output_type": "stream",
     "text": [
      "-4.602587974901901\n"
     ]
    },
    {
     "data": {
      "text/plain": [
       "PermutationTestResult(statistic=-4.602587974901899, pvalue=0.0074, null_distribution=array([-1.5742186 ,  1.3057731 , -2.85329341, ...,  2.92211432,\n",
       "        2.19053814, -0.64469413]))"
      ]
     },
     "execution_count": 91,
     "metadata": {},
     "output_type": "execute_result"
    }
   ],
   "source": [
    "# Hypothesis test 1)\n",
    "# GDP% Change\n",
    "\n",
    "# set x and y\n",
    "x = df08['World GDP % Growth Rate']\n",
    "y =  df07['World GDP % Growth Rate']\n",
    "\n",
    "# what is the statistic: statistic=-4.602587974901899, pvalue=0.0074\n",
    "print(statistic(x,y,0))\n",
    "# Calculate p-value\n",
    "p_value = stats.permutation_test((x,y), statistic, alternative='less', n_resamples=9999)\n",
    "p_value"
   ]
  },
  {
   "cell_type": "code",
   "execution_count": 130,
   "id": "56fb3f43",
   "metadata": {},
   "outputs": [
    {
     "data": {
      "image/png": "[encoded data removed]",
      "text/plain": [
       "<Figure size 432x288 with 1 Axes>"
      ]
     },
     "metadata": {
      "needs_background": "light"
     },
     "output_type": "display_data"
    }
   ],
   "source": [
    "plt.plot(df['World GDP % Growth Rate'])\n",
    "\n",
    "# Adding horizontal line at y=0\n",
    "plt.axhline(y=0, color='black', linestyle='-')\n",
    "\n",
    "# Adding Vertical line at y=2008\n",
    "plt.axvline(x=2008, color='red', linestyle='-')\n",
    "\n",
    "# Adding labels\n",
    "plt.xlabel('Year')\n",
    "plt.ylabel('Growth Rate')\n",
    "plt.title('World GDP % Growth Rate')\n",
    "\n",
    "# Display the plot\n",
    "plt.show()"
   ]
  },
  {
   "cell_type": "code",
   "execution_count": 92,
   "id": "e6d0386c",
   "metadata": {},
   "outputs": [
    {
     "name": "stdout",
     "output_type": "stream",
     "text": [
      "-6.559957025968546\n"
     ]
    },
    {
     "data": {
      "text/plain": [
       "PermutationTestResult(statistic=-6.559957025968546, pvalue=0.0244, null_distribution=array([ 4.01330151,  3.51055716, -2.63417438, ...,  1.30613093,\n",
       "       -3.3013421 , -3.48988838]))"
      ]
     },
     "execution_count": 92,
     "metadata": {},
     "output_type": "execute_result"
    }
   ],
   "source": [
    "# Hypothesis test 2) \n",
    "# Trade Volume% Change\n",
    "\n",
    "\n",
    "# set x and y\n",
    "x = df08['Trade Volume % Growth']\n",
    "y =  df07['Trade Volume % Growth']\n",
    "\n",
    "# what is the statistic: statistic=-6.559957025968546, pvalue=0.0244\n",
    "print(statistic(x,y,0))\n",
    "# Calculate p-value\n",
    "p_value = stats.permutation_test((x,y), statistic, alternative='less', n_resamples=9999)\n",
    "p_value"
   ]
  },
  {
   "cell_type": "code",
   "execution_count": 132,
   "id": "af767713",
   "metadata": {},
   "outputs": [
    {
     "data": {
      "image/png": "[encoded data removed]",
      "text/plain": [
       "<Figure size 432x288 with 1 Axes>"
      ]
     },
     "metadata": {
      "needs_background": "light"
     },
     "output_type": "display_data"
    }
   ],
   "source": [
    "plt.plot(df['Trade Volume % Growth'])\n",
    "\n",
    "# Adding horizontal line at y=0\n",
    "plt.axhline(y=0, color='black', linestyle='-')\n",
    "\n",
    "# Adding Vertical line at y=2008\n",
    "plt.axvline(x=2008, color='red', linestyle='-')\n",
    "\n",
    "# Adding labels\n",
    "plt.xlabel('Year')\n",
    "plt.ylabel('Growth Rate')\n",
    "plt.title('Trade Volume % Growth')\n",
    "\n",
    "# Display the plot\n",
    "plt.show()"
   ]
  },
  {
   "cell_type": "code",
   "execution_count": 94,
   "id": "d5433bdd",
   "metadata": {},
   "outputs": [
    {
     "name": "stdout",
     "output_type": "stream",
     "text": [
      "-1.9640328679103263\n"
     ]
    },
    {
     "data": {
      "text/plain": [
       "PermutationTestResult(statistic=-1.9640328679103263, pvalue=0.1409, null_distribution=array([-1.57523812, -3.20832881,  0.02313966, ...,  0.11501954,\n",
       "        3.29238232,  0.50927044]))"
      ]
     },
     "execution_count": 94,
     "metadata": {},
     "output_type": "execute_result"
    }
   ],
   "source": [
    "# Hypotheis Test 3)\n",
    "\n",
    "# Trade Volume as a % of GDP Growth Rate\n",
    "\n",
    "# set x and y\n",
    "x = df08['Trade Volume as % of World GDP Growth Rate']\n",
    "y =  df07['Trade Volume as % of World GDP Growth Rate']\n",
    "\n",
    "# what is the statistic: statistic=-1.9640328679103263, pvalue=0.1409\n",
    "print(statistic(x,y,0))\n",
    "# Calculate p-value\n",
    "p_value = stats.permutation_test((x,y), statistic, alternative='less', n_resamples=9999)\n",
    "p_value"
   ]
  },
  {
   "cell_type": "code",
   "execution_count": 133,
   "id": "5edd1e06",
   "metadata": {},
   "outputs": [
    {
     "data": {
      "image/png": "[encoded data removed]",
      "text/plain": [
       "<Figure size 432x288 with 1 Axes>"
      ]
     },
     "metadata": {
      "needs_background": "light"
     },
     "output_type": "display_data"
    }
   ],
   "source": [
    "plt.plot(df['Trade Volume as % of World GDP Growth Rate'])\n",
    "\n",
    "# Adding horizontal line at y=0\n",
    "plt.axhline(y=0, color='black', linestyle='-')\n",
    "\n",
    "# Adding Vertical line at y=2008\n",
    "plt.axvline(x=2008, color='red', linestyle='-')\n",
    "\n",
    "# Adding labels\n",
    "plt.xlabel('Year')\n",
    "plt.ylabel('Growth Rate')\n",
    "plt.title('Trade Volume as a % of World GDP Growth Rate')\n",
    "\n",
    "# Display the plot\n",
    "plt.show()"
   ]
  },
  {
   "cell_type": "code",
   "execution_count": 148,
   "id": "af4156a2",
   "metadata": {},
   "outputs": [
    {
     "name": "stdout",
     "output_type": "stream",
     "text": [
      "-2.608290082237941\n"
     ]
    },
    {
     "data": {
      "text/plain": [
       "PermutationTestResult(statistic=-2.608290082237941, pvalue=0.1141, null_distribution=array([ 1.45309716,  0.56632867, -2.03136008, ..., -2.79770648,\n",
       "       -0.47195009, -3.53565475]))"
      ]
     },
     "execution_count": 148,
     "metadata": {},
     "output_type": "execute_result"
    }
   ],
   "source": [
    "# Hypotheis Test 3.5)\n",
    "\n",
    "# Trade Volume as a % of GDP Growth Rate 1990-2008 vs. 2008-2022\n",
    "\n",
    "# set x and y\n",
    "x = df08['Trade Volume as % of World GDP Growth Rate']\n",
    "y =  df07['Trade Volume as % of World GDP Growth Rate'].loc[1996:]\n",
    "\n",
    "# what is the statistic: statistic=-1.9640328679103263, pvalue=0.1409\n",
    "print(statistic(x,y,0))\n",
    "# Calculate p-value\n",
    "p_value = stats.permutation_test((x,y), statistic, alternative='less', n_resamples=9999)\n",
    "p_value"
   ]
  },
  {
   "cell_type": "code",
   "execution_count": 93,
   "id": "9a383fa3",
   "metadata": {},
   "outputs": [
    {
     "name": "stdout",
     "output_type": "stream",
     "text": [
      "16.973278654643906\n"
     ]
    },
    {
     "data": {
      "text/plain": [
       "PermutationTestResult(statistic=16.9732786546439, pvalue=0.0001, null_distribution=array([ 6.37819868,  0.4844971 , -0.34092941, ..., -3.59204661,\n",
       "        3.2265712 , -0.23559245]))"
      ]
     },
     "execution_count": 93,
     "metadata": {},
     "output_type": "execute_result"
    }
   ],
   "source": [
    "\n",
    "# Trade Volume as a % of GDP \n",
    "\n",
    "# set x and y\n",
    "x = df08['Trade Volume as % of World GDP']\n",
    "y =  df07['Trade Volume as % of World GDP']\n",
    "\n",
    "# what is the statistic: statistic=16.9732786546439, pvalue=0.0001\n",
    "print(statistic(x,y,0))\n",
    "# Calculate p-value\n",
    "p_value = stats.permutation_test((x,y), statistic, alternative='greater', n_resamples=9999)\n",
    "p_value"
   ]
  },
  {
   "cell_type": "code",
   "execution_count": 134,
   "id": "50c3afbd",
   "metadata": {},
   "outputs": [
    {
     "data": {
      "image/png": "[encoded data removed]",
      "text/plain": [
       "<Figure size 432x288 with 1 Axes>"
      ]
     },
     "metadata": {
      "needs_background": "light"
     },
     "output_type": "display_data"
    }
   ],
   "source": [
    "plt.plot(df['Trade Volume as % of World GDP'])\n",
    "\n",
    "# Adding Vertical line at y=2008\n",
    "plt.axvline(x=2008, color='red', linestyle='-')\n",
    "\n",
    "# Adding labels\n",
    "plt.xlabel('Year')\n",
    "plt.ylabel('Percentage')\n",
    "plt.title('Trade Volume as % of World GDP')\n",
    "\n",
    "# Display the plot\n",
    "plt.show()"
   ]
  },
  {
   "cell_type": "code",
   "execution_count": null,
   "id": "959c4851",
   "metadata": {},
   "outputs": [],
   "source": []
  },
  {
   "cell_type": "code",
   "execution_count": null,
   "id": "96160eda",
   "metadata": {},
   "outputs": [],
   "source": []
  },
  {
   "cell_type": "code",
   "execution_count": null,
   "id": "7da19ed7",
   "metadata": {},
   "outputs": [],
   "source": []
  },
  {
   "cell_type": "code",
   "execution_count": null,
   "id": "653be007",
   "metadata": {},
   "outputs": [],
   "source": []
  },
  {
   "cell_type": "code",
   "execution_count": null,
   "id": "e0cd14f3",
   "metadata": {},
   "outputs": [],
   "source": []
  }
 ],
 "metadata": {
  "kernelspec": {
   "display_name": "Python 3 (ipykernel)",
   "language": "python",
   "name": "python3"
  },
  "language_info": {
   "codemirror_mode": {
    "name": "ipython",
    "version": 3
   },
   "file_extension": ".py",
   "mimetype": "text/x-python",
   "name": "python",
   "nbconvert_exporter": "python",
   "pygments_lexer": "ipython3",
   "version": "3.9.7"
  }
 },
 "nbformat": 4,
 "nbformat_minor": 5
}
